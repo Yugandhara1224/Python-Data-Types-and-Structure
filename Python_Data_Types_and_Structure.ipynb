{
  "nbformat": 4,
  "nbformat_minor": 0,
  "metadata": {
    "colab": {
      "provenance": []
    },
    "kernelspec": {
      "name": "python3",
      "display_name": "Python 3"
    },
    "language_info": {
      "name": "python"
    }
  },
  "cells": [
    {
      "cell_type": "markdown",
      "source": [
        "**Python Data Types and Structure**"
      ],
      "metadata": {
        "id": "GmPAdq5W--j7"
      }
    },
    {
      "cell_type": "markdown",
      "source": [
        "1. What are data structures, and why are they important?\n",
        "-> Data structures are specialized formats for organizing, processing, and storing data in a computer. They enable efficient data management and manipulation, allowing for operations such as searching, sorting, and accessing data. Data structures are important because they provide a way to manage large amounts of data efficiently, optimize performance, and facilitate the implementation of algorithms."
      ],
      "metadata": {
        "id": "1PnD_FaP_JWM"
      }
    },
    {
      "cell_type": "markdown",
      "source": [
        "2. Explain the difference between mutable and immutable data types with examples.\n",
        "-> -Mutable Data Types: These are data types that can be changed after they are created. Examples include lists and dictionaries. For instance, you can add, remove, or change elements in a list.\n",
        "\n",
        " my_list = [1, 2, 3]\n",
        "\n",
        " my_list[0] = 10  # my_list is now [10, 2, 3]\n",
        "\n",
        " -Immutable Data Types: These are data types that cannot be changed after they are created. Examples include strings and tuples. For instance, trying to change a character in a string will result in an error.\n",
        "\n",
        " my_string = \"hello\"\n",
        "\n",
        " my_string[0] = 'H'  # This will raise a TypeError\n"
      ],
      "metadata": {
        "id": "09TyDBI5_mwA"
      }
    },
    {
      "cell_type": "markdown",
      "source": [
        "3. What are the main differences between lists and tuples in Python?\n",
        "-> Mutability: Lists are mutable, meaning their contents can be changed, while tuples are immutable, meaning their contents cannot be changed after creation.\n",
        "\n",
        "-Syntax: Lists are defined using square brackets `[]`, while tuples are defined using parentheses `()`.\n",
        "\n",
        "-Performance: Tuples can be slightly faster than lists for certain operations due to their immutability.\n",
        "\n",
        "-Use Cases: Lists are generally used for collections of items that may change, while tuples are often used for fixed collections of items, such as coordinates or records.\n"
      ],
      "metadata": {
        "id": "Q3l6lBJaA3ev"
      }
    },
    {
      "cell_type": "markdown",
      "source": [
        "4. Describe how dictionaries store data.\n",
        "-> Dictionaries in Python store data in key-value pairs. Each key is unique and is used to access its corresponding value. Internally, dictionaries use a hash table to map keys to values, allowing for efficient retrieval.\n",
        "\n",
        "my_dict = {'name': 'Alice', 'age': 30}\n",
        "\n",
        "print(my_dict['name'])  # Output: Alice"
      ],
      "metadata": {
        "id": "6MhTg2DYBKyv"
      }
    },
    {
      "cell_type": "markdown",
      "source": [
        "5. Why might you use a set instead of a list in Python?\n",
        "-> Sets are used instead of lists when you need to store unique items and do not care about the order of elements. Sets automatically handle duplicates and provide efficient membership testing. Using a set can also improve performance for operations like checking for membership, as sets have average time complexity of O(1) for lookups.\n",
        "\n",
        "my_set = {1, 2, 3, 3}  # my_set will be {1, 2, 3}"
      ],
      "metadata": {
        "id": "F8ooGJexBbjA"
      }
    },
    {
      "cell_type": "markdown",
      "source": [
        "6. What is a string in Python, and how is it different from a list?\n",
        "-> A string in Python is a sequence of characters enclosed in quotes (single or double). Strings are immutable, meaning once created, they cannot be changed. In contrast, a list is a mutable collection that can contain elements of different data types, including strings.\n",
        "\n",
        "my_string = \"hello\"\n",
        "\n",
        "my_list = ['h', 'e', 'l', 'l', 'o']\n"
      ],
      "metadata": {
        "id": "txirX5S-Bl5c"
      }
    },
    {
      "cell_type": "markdown",
      "source": [
        "7. How do tuples ensure data integrity in Python?\n",
        "-> Tuples ensure data integrity by being immutable, which means that once a tuple is created, its contents cannot be altered. This immutability prevents accidental changes to the data, making tuples a good choice for representing fixed collections of items, such as coordinates or records."
      ],
      "metadata": {
        "id": "wFSkZ_3SB1_A"
      }
    },
    {
      "cell_type": "markdown",
      "source": [
        "8. What is a hash table, and how does it relate to dictionaries in Python?\n",
        "-> A hash table is a data structure that implements an associative array, a structure that can map keys to values. It uses a hash function to compute an index into an array of buckets or slots, from which the desired value can be found. In Python, dictionaries are implemented using hash tables, allowing for efficient key-value pair storage and retrieval."
      ],
      "metadata": {
        "id": "ebIK52CHB7zG"
      }
    },
    {
      "cell_type": "markdown",
      "source": [
        "9. Can lists contain different data types in Python?\n",
        "-> Yes, lists in Python can contain elements of different data types. For example, a list can include integers, strings, and even other lists.\n",
        "\n",
        "my_list = [1, \"hello\", 3.14, [2, 3]]"
      ],
      "metadata": {
        "id": "OOhzvNgUCBpQ"
      }
    },
    {
      "cell_type": "markdown",
      "source": [
        "10. Explain why strings are immutable in Python.\n",
        "-> Strings are immutable in Python to ensure that they can be safely shared across different parts of a program without the risk of being modified. This immutability allows for optimizations in memory usage and performance, as Python can store strings in a more efficient way. Additionally, immutability simplifies the implementation of certain features, such as string interning, where identical string literals can share the same memory location."
      ],
      "metadata": {
        "id": "1eZSciRzCLK0"
      }
    },
    {
      "cell_type": "markdown",
      "source": [
        "11. What advantages do dictionaries offer over lists for certain tasks?\n",
        "-> - Key-Value Pairing: Dictionaries store data as key-value pairs, allowing for more intuitive data retrieval based on meaningful keys rather than numeric indices.\n",
        "\n",
        "-Fast Lookups: Average O(1) time complexity for lookups, making them faster than lists for searching for items.\n",
        "\n",
        "-Uniqueness: Keys in dictionaries are unique, preventing duplicates and facilitating easier data management.\n",
        "\n",
        "-Dynamic Data: Dictionaries can easily accommodate dynamic data structures where the number of elements may change frequently.\n"
      ],
      "metadata": {
        "id": "gdGMHtOXC3dt"
      }
    },
    {
      "cell_type": "markdown",
      "source": [
        "12. How do sets handle duplicate values in Python?\n",
        "-> Sets automatically eliminate duplicate values. When you create a set, any duplicate elements are ignored, and only unique elements are stored. For example:\n",
        "\n",
        "my_set = {1, 2, 2, 3}  # my_set will be {1, 2, 3}\n",
        "\n",
        "This property makes sets useful for tasks where uniqueness is required."
      ],
      "metadata": {
        "id": "Sh0sbP7jDMdp"
      }
    },
    {
      "cell_type": "markdown",
      "source": [
        "13. Describe a scenario where using a tuple would be preferable over a list.\n",
        "-> Using a tuple is preferable when you want to ensure that the data remains constant and cannot be modified. For example, when representing fixed data such as coordinates (latitude, longitude) or RGB color values, tuples are ideal:\n",
        "\n",
        "coordinates = (40.7128, -74.0060)  # Latitude and longitude of New York City\n",
        "\n",
        "In this case, using a tuple prevents accidental modification of the coordinate values."
      ],
      "metadata": {
        "id": "vFow4w1jDX-S"
      }
    },
    {
      "cell_type": "markdown",
      "source": [
        "14. How does the “in” keyword work differently for lists and dictionaries?\n",
        "-> - For Lists: The `in` keyword checks for the presence of an element in the list, iterating through the list, resulting in O(n) time complexity.\n",
        "\n",
        "my_list = [1, 2, 3]\n",
        "\n",
        "  print(2 in my_list)  # Output: True\n",
        "\n",
        "-For Dictionaries: The `in` keyword checks for the presence of a key in the dictionary, using the hash table structure, allowing for average O(1) time complexity for lookups.\n",
        "\n",
        " my_dict = {'a': 1, 'b': 2}\n",
        "\n",
        "  print('a' in my_dict)  # Output: True\n"
      ],
      "metadata": {
        "id": "UJ4t84BFDmnX"
      }
    },
    {
      "cell_type": "markdown",
      "source": [
        "15. Can you modify the elements of a tuple? Explain why or why not.\n",
        "-> No, you cannot modify the elements of a tuple because tuples are immutable. This immutability is a design choice in Python that ensures data integrity and allows for optimizations in memory usage. Once a tuple is created, its contents cannot be changed, which prevents accidental modifications.\n"
      ],
      "metadata": {
        "id": "OnnNc5mZD75N"
      }
    },
    {
      "cell_type": "markdown",
      "source": [
        "16.  What is a nested dictionary, and give an example of its use case?\n",
        "A nested dictionary is a dictionary that contains other dictionaries as its values. This structure allows for the representation of complex data relationships. For example, a nested dictionary can be used to represent a collection of students and their grades:\n",
        "\n",
        "students = {\n",
        "  \n",
        "    'Alice': {'math': 90, 'science': 85},\n",
        "    'Bob': {'math': 75, 'science': 80}\n",
        "}\n",
        "\n",
        "In this case, you can easily access a student's grades by their name and the subject.\n"
      ],
      "metadata": {
        "id": "YnNpKFe9EBr_"
      }
    },
    {
      "cell_type": "markdown",
      "source": [
        "17. Describe the time complexity of accessing elements in a dictionary.\n",
        "-> The average time complexity for accessing elements in a dictionary is O(1) due to the underlying hash table implementation. This means that retrieving a value using its key is generally very fast, regardless of the number of elements in the dictionary.\n"
      ],
      "metadata": {
        "id": "YTPzwh2IEPuS"
      }
    },
    {
      "cell_type": "markdown",
      "source": [
        "18. In what situations are lists preferred over dictionaries?\n",
        "-> Lists are preferred over dictionaries in situations where:\n",
        "- Order Matters: If the order of elements is important, lists maintain the order of insertion, while dictionaries (prior to Python 3.7) do not guarantee order.\n",
        "- Simple Collections: When you need to store a simple collection of items without the need for key-value pairing, lists are more straightforward.\n",
        "- Index-Based Access: If you need to access elements by their position (index) rather than by a key, lists are more suitable.\n"
      ],
      "metadata": {
        "id": "mtn60Ds5EVQb"
      }
    },
    {
      "cell_type": "markdown",
      "source": [
        "19. Why are dictionaries considered unordered, and how does that affect data retrieval?\n",
        "-> Dictionaries are considered unordered because, prior to Python 3.7, they did not maintain the order of elements based on insertion. This means that the order in which key-value pairs are stored is not guaranteed, which can affect how data is retrieved if the order is important. However, starting from Python 3.7, dictionaries maintain insertion order, but they are still conceptually unordered collections.\n"
      ],
      "metadata": {
        "id": "AGRmoAG8Eg6Z"
      }
    },
    {
      "cell_type": "markdown",
      "source": [
        "20. Explain the difference between a list and a dictionary in terms of data retrieval.\n",
        "-> - List: Data is accessed using an index (numerical position). For example, `my_list[0]` retrieves the first element. Lists are ordered collections, so the order of elements is preserved, allowing for operations that depend on the sequence.\n",
        "\n",
        "-Dictionary: Data is accessed using keys (unique identifiers). For example, `my_dict['key']` retrieves the value associated with 'key'. Dictionaries are collections of key-value pairs, and while they maintain insertion order starting from Python 3.7, they are conceptually unordered, focusing on the relationship between keys and values rather than their order.\n"
      ],
      "metadata": {
        "id": "ZEl-s083ElZn"
      }
    },
    {
      "cell_type": "markdown",
      "source": [
        "**Practical Questions**"
      ],
      "metadata": {
        "id": "-T9Ufq7GEz66"
      }
    },
    {
      "cell_type": "code",
      "source": [
        "# 1. Write a code to create a string with your name and print it.\n",
        "name = \"Yugandhara\"\n",
        "print(name)"
      ],
      "metadata": {
        "colab": {
          "base_uri": "https://localhost:8080/"
        },
        "id": "YW2KPIVDEw2B",
        "outputId": "e9829cb3-e0cd-44e9-9363-250871c7a554"
      },
      "execution_count": 1,
      "outputs": [
        {
          "output_type": "stream",
          "name": "stdout",
          "text": [
            "Yugandhara\n"
          ]
        }
      ]
    },
    {
      "cell_type": "code",
      "execution_count": 2,
      "metadata": {
        "colab": {
          "base_uri": "https://localhost:8080/"
        },
        "id": "-FTtg02T-9v8",
        "outputId": "e5378e9e-9a79-47f1-cc64-7c47cd97efbb"
      },
      "outputs": [
        {
          "output_type": "stream",
          "name": "stdout",
          "text": [
            "11\n"
          ]
        }
      ],
      "source": [
        "# 2. Write a code to find the length of the string \"Hello World\".\n",
        "string = \"Hello World\"\n",
        "length = len(string)\n",
        "print(length)"
      ]
    },
    {
      "cell_type": "code",
      "source": [
        "# 3.  Write a code to slice the first 3 characters from the string \"Python Programming\".\n",
        "string = \"Python Programming\"\n",
        "sliced_string = string[:3]\n",
        "print(sliced_string)"
      ],
      "metadata": {
        "colab": {
          "base_uri": "https://localhost:8080/"
        },
        "id": "5UYOcowYF1Bi",
        "outputId": "30a1081b-26c1-49e3-aed9-d9e20136abde"
      },
      "execution_count": 3,
      "outputs": [
        {
          "output_type": "stream",
          "name": "stdout",
          "text": [
            "Pyt\n"
          ]
        }
      ]
    },
    {
      "cell_type": "code",
      "source": [
        "# 4. Convert the string \"hello\" to uppercase.\n",
        "string = \"hello\"\n",
        "uppercase_string = string.upper()\n",
        "print(uppercase_string)"
      ],
      "metadata": {
        "colab": {
          "base_uri": "https://localhost:8080/"
        },
        "id": "3D_54IbBF99l",
        "outputId": "ea6610f3-40df-4d54-b7ce-d79fe01d21c0"
      },
      "execution_count": 4,
      "outputs": [
        {
          "output_type": "stream",
          "name": "stdout",
          "text": [
            "HELLO\n"
          ]
        }
      ]
    },
    {
      "cell_type": "code",
      "source": [
        "# 5. Replace the word \"apple\" with \"orange\" in the string \"I like apple\".\n",
        "string = \"I like apple\"\n",
        "replaced_string = string.replace(\"apple\", \"orange\")\n",
        "print(replaced_string)"
      ],
      "metadata": {
        "colab": {
          "base_uri": "https://localhost:8080/"
        },
        "id": "_cftkIl9GEi9",
        "outputId": "9980198c-af4b-46fc-edce-7a0add9db313"
      },
      "execution_count": 5,
      "outputs": [
        {
          "output_type": "stream",
          "name": "stdout",
          "text": [
            "I like orange\n"
          ]
        }
      ]
    },
    {
      "cell_type": "code",
      "source": [
        "# 6. Create a list with numbers 1 to 5 and print it.\n",
        "number_list = [1, 2, 3, 4, 5]\n",
        "print(number_list)"
      ],
      "metadata": {
        "colab": {
          "base_uri": "https://localhost:8080/"
        },
        "id": "v361LSZgGK4X",
        "outputId": "5f315489-39c4-4f39-a36a-e5e372bbe3ba"
      },
      "execution_count": 6,
      "outputs": [
        {
          "output_type": "stream",
          "name": "stdout",
          "text": [
            "[1, 2, 3, 4, 5]\n"
          ]
        }
      ]
    },
    {
      "cell_type": "code",
      "source": [
        "# 7. Append the number 10 to the list [1, 2, 3, 4].\n",
        "my_list = [1, 2, 3, 4]\n",
        "my_list.append(10)\n",
        "print(my_list)"
      ],
      "metadata": {
        "colab": {
          "base_uri": "https://localhost:8080/"
        },
        "id": "i8g0oavkGQYl",
        "outputId": "6bfbcf25-ba39-4679-acf7-1a776885b961"
      },
      "execution_count": 7,
      "outputs": [
        {
          "output_type": "stream",
          "name": "stdout",
          "text": [
            "[1, 2, 3, 4, 10]\n"
          ]
        }
      ]
    },
    {
      "cell_type": "code",
      "source": [
        "# 8. Remove the number 3 from the list [1, 2, 3, 4, 5].\n",
        "my_list = [1, 2, 3, 4, 5]\n",
        "my_list.remove(3)\n",
        "print(my_list)"
      ],
      "metadata": {
        "colab": {
          "base_uri": "https://localhost:8080/"
        },
        "id": "OncVzCf0GVaS",
        "outputId": "f92e7909-5b55-402c-a23b-1c62985cf4ac"
      },
      "execution_count": 8,
      "outputs": [
        {
          "output_type": "stream",
          "name": "stdout",
          "text": [
            "[1, 2, 4, 5]\n"
          ]
        }
      ]
    },
    {
      "cell_type": "code",
      "source": [
        "# 9. Access the second element in the list ['a', 'b', 'c', 'd'].\n",
        "my_list = ['a', 'b', 'c', 'd']\n",
        "second_element = my_list[1]  # Index 1 corresponds to the second element\n",
        "print(second_element)"
      ],
      "metadata": {
        "colab": {
          "base_uri": "https://localhost:8080/"
        },
        "id": "2CM26zgLGaIp",
        "outputId": "044aa894-1203-4770-9bb2-0ec10a9102f3"
      },
      "execution_count": 9,
      "outputs": [
        {
          "output_type": "stream",
          "name": "stdout",
          "text": [
            "b\n"
          ]
        }
      ]
    },
    {
      "cell_type": "code",
      "source": [
        "# 10. Reverse the list [10, 20, 30, 40, 50].\n",
        "my_list = [10, 20, 30, 40, 50]\n",
        "my_list.reverse()\n",
        "print(my_list)"
      ],
      "metadata": {
        "colab": {
          "base_uri": "https://localhost:8080/"
        },
        "id": "HHFE1uyoGg2S",
        "outputId": "cc10a9cd-0ae2-4d23-c3ae-e1938c289a8f"
      },
      "execution_count": 10,
      "outputs": [
        {
          "output_type": "stream",
          "name": "stdout",
          "text": [
            "[50, 40, 30, 20, 10]\n"
          ]
        }
      ]
    },
    {
      "cell_type": "code",
      "source": [
        "# 11. Create a tuple with the elements 10, 20, 30 and print it.\n",
        "my_tuple = (10, 20, 30)\n",
        "print(my_tuple)"
      ],
      "metadata": {
        "colab": {
          "base_uri": "https://localhost:8080/"
        },
        "id": "Wrup5sBmGowm",
        "outputId": "92ace266-18e2-4062-fffd-1a51458acef4"
      },
      "execution_count": 11,
      "outputs": [
        {
          "output_type": "stream",
          "name": "stdout",
          "text": [
            "(10, 20, 30)\n"
          ]
        }
      ]
    },
    {
      "cell_type": "code",
      "source": [
        "# 12. Access the first element of the tuple ('apple', 'banana', 'cherry').\n",
        "my_tuple = ('apple', 'banana', 'cherry')\n",
        "first_element = my_tuple[0]  # Index 0 corresponds to the first element\n",
        "print(first_element)"
      ],
      "metadata": {
        "colab": {
          "base_uri": "https://localhost:8080/"
        },
        "id": "3uMjJ5fIG0AA",
        "outputId": "3123838f-a5ba-4ece-f102-a9a22c38d6ad"
      },
      "execution_count": 12,
      "outputs": [
        {
          "output_type": "stream",
          "name": "stdout",
          "text": [
            "apple\n"
          ]
        }
      ]
    },
    {
      "cell_type": "code",
      "source": [
        "# 13. Count how many times the number 2 appears in the tuple (1, 2, 3, 2, 4, 2).\n",
        "my_tuple = (1, 2, 3, 2, 4, 2)\n",
        "count_of_twos = my_tuple.count(2)\n",
        "print(count_of_twos)"
      ],
      "metadata": {
        "colab": {
          "base_uri": "https://localhost:8080/"
        },
        "id": "WTXp83jcG4gU",
        "outputId": "a55472a6-dba7-4c75-e508-1e68a5f2c8d8"
      },
      "execution_count": 13,
      "outputs": [
        {
          "output_type": "stream",
          "name": "stdout",
          "text": [
            "3\n"
          ]
        }
      ]
    },
    {
      "cell_type": "code",
      "source": [
        "# 14. Find the index of the element \"cat\" in the tuple ('dog', 'cat', 'rabbit').\n",
        "my_tuple = ('dog', 'cat', 'rabbit')\n",
        "index_of_cat = my_tuple.index('cat')\n",
        "print(index_of_cat)"
      ],
      "metadata": {
        "colab": {
          "base_uri": "https://localhost:8080/"
        },
        "id": "IFDIuPKtG9sB",
        "outputId": "adf4d2e9-854d-4f00-f0d9-4a146b4e0474"
      },
      "execution_count": 14,
      "outputs": [
        {
          "output_type": "stream",
          "name": "stdout",
          "text": [
            "1\n"
          ]
        }
      ]
    },
    {
      "cell_type": "code",
      "source": [
        "# 15. Check if the element \"banana\" is in the tuple ('apple', 'orange', 'banana').\n",
        "my_tuple = ('apple', 'orange', 'banana')\n",
        "is_banana_in_tuple = 'banana' in my_tuple\n",
        "print(is_banana_in_tuple)"
      ],
      "metadata": {
        "colab": {
          "base_uri": "https://localhost:8080/"
        },
        "id": "tv6VlFH0HCFm",
        "outputId": "87e4b18d-0a1f-474b-e380-08156bb6a2db"
      },
      "execution_count": 15,
      "outputs": [
        {
          "output_type": "stream",
          "name": "stdout",
          "text": [
            "True\n"
          ]
        }
      ]
    },
    {
      "cell_type": "code",
      "source": [
        "# 16. Create a set with the elements 1, 2, 3, 4, 5 and print it.\n",
        "my_set = {1, 2, 3, 4, 5}\n",
        "print(my_set)"
      ],
      "metadata": {
        "colab": {
          "base_uri": "https://localhost:8080/"
        },
        "id": "R-AeqM0RHHS3",
        "outputId": "7708f50a-0dd7-4273-d2f6-f4619b418e6a"
      },
      "execution_count": 16,
      "outputs": [
        {
          "output_type": "stream",
          "name": "stdout",
          "text": [
            "{1, 2, 3, 4, 5}\n"
          ]
        }
      ]
    },
    {
      "cell_type": "code",
      "source": [
        "# 17. Add the element 6 to the set {1, 2, 3, 4}.\n",
        "my_set = {1, 2, 3, 4}\n",
        "my_set.add(6)\n",
        "print(my_set)"
      ],
      "metadata": {
        "colab": {
          "base_uri": "https://localhost:8080/"
        },
        "id": "vbWvkk8vHMC0",
        "outputId": "abc9b34b-ff44-4153-abd1-bab588dda229"
      },
      "execution_count": 17,
      "outputs": [
        {
          "output_type": "stream",
          "name": "stdout",
          "text": [
            "{1, 2, 3, 4, 6}\n"
          ]
        }
      ]
    },
    {
      "cell_type": "code",
      "source": [
        "# 18. Create a tuple with the elements 10, 20, 30 and print it.\n",
        "my_tuple = (10, 20, 30)\n",
        "print(my_tuple)"
      ],
      "metadata": {
        "colab": {
          "base_uri": "https://localhost:8080/"
        },
        "id": "zGsQG_nHHRs2",
        "outputId": "f14c6ee1-2a05-4354-fa11-df657a751e8e"
      },
      "execution_count": 18,
      "outputs": [
        {
          "output_type": "stream",
          "name": "stdout",
          "text": [
            "(10, 20, 30)\n"
          ]
        }
      ]
    },
    {
      "cell_type": "code",
      "source": [
        "# 19. Access the first element of the tuple ('apple', 'banana', 'cherry').\n",
        "my_tuple = ('apple', 'banana', 'cherry')\n",
        "first_element = my_tuple[0]  # Index 0 corresponds to the first element\n",
        "print(first_element)"
      ],
      "metadata": {
        "colab": {
          "base_uri": "https://localhost:8080/"
        },
        "id": "Wor_0-XsHXGe",
        "outputId": "3f7a07f7-fc10-419d-c8ec-543f5950ca33"
      },
      "execution_count": 19,
      "outputs": [
        {
          "output_type": "stream",
          "name": "stdout",
          "text": [
            "apple\n"
          ]
        }
      ]
    },
    {
      "cell_type": "code",
      "source": [
        "# 20. Count how many times the number 2 appears in the tuple (1, 2, 3, 2, 4, 2).\n",
        "my_tuple = (1, 2, 3, 2, 4, 2)\n",
        "count_of_twos = my_tuple.count(2)\n",
        "print(count_of_twos)"
      ],
      "metadata": {
        "colab": {
          "base_uri": "https://localhost:8080/"
        },
        "id": "HJT54YZOHcYV",
        "outputId": "9c1c52a8-360a-460c-9da1-4937b50b1a80"
      },
      "execution_count": 20,
      "outputs": [
        {
          "output_type": "stream",
          "name": "stdout",
          "text": [
            "3\n"
          ]
        }
      ]
    },
    {
      "cell_type": "code",
      "source": [
        "# 21. Find the index of the element \"cat\" in the tuple ('dog', 'cat', 'rabbit').\n",
        "my_tuple = ('dog', 'cat', 'rabbit')\n",
        "index_of_cat = my_tuple.index('cat')\n",
        "print(index_of_cat)"
      ],
      "metadata": {
        "colab": {
          "base_uri": "https://localhost:8080/"
        },
        "id": "Hl1TD-12HhxZ",
        "outputId": "225c33f1-8c0b-4197-8445-a682a3e4c7b4"
      },
      "execution_count": 21,
      "outputs": [
        {
          "output_type": "stream",
          "name": "stdout",
          "text": [
            "1\n"
          ]
        }
      ]
    },
    {
      "cell_type": "code",
      "source": [
        "# 22. Check if the element \"banana\" is in the tuple ('apple', 'orange', 'banana').\n",
        "my_tuple = ('apple', 'orange', 'banana')\n",
        "is_banana_in_tuple = 'banana' in my_tuple\n",
        "print(is_banana_in_tuple)"
      ],
      "metadata": {
        "colab": {
          "base_uri": "https://localhost:8080/"
        },
        "id": "npy0B13NHmPX",
        "outputId": "220860dd-b5b5-4e92-9cc0-886a57db1e69"
      },
      "execution_count": 22,
      "outputs": [
        {
          "output_type": "stream",
          "name": "stdout",
          "text": [
            "True\n"
          ]
        }
      ]
    },
    {
      "cell_type": "code",
      "source": [
        "# 23. Create a set with the elements 1, 2, 3, 4, 5 and print it.\n",
        "my_set = {1, 2, 3, 4, 5}\n",
        "print(my_set)"
      ],
      "metadata": {
        "colab": {
          "base_uri": "https://localhost:8080/"
        },
        "id": "RqVtxlLvHrDw",
        "outputId": "df4f2201-c24c-498e-fff0-e39294e3712a"
      },
      "execution_count": 23,
      "outputs": [
        {
          "output_type": "stream",
          "name": "stdout",
          "text": [
            "{1, 2, 3, 4, 5}\n"
          ]
        }
      ]
    },
    {
      "cell_type": "code",
      "source": [
        "# 24. Add the element 6 to the set {1, 2, 3, 4}.\n",
        "my_set = {1, 2, 3, 4}\n",
        "my_set.add(6)\n",
        "print(my_set)"
      ],
      "metadata": {
        "colab": {
          "base_uri": "https://localhost:8080/"
        },
        "id": "Jt7kJZRBHw7-",
        "outputId": "ed70a0c3-66ec-4b10-8d9c-2c858788f9ca"
      },
      "execution_count": 24,
      "outputs": [
        {
          "output_type": "stream",
          "name": "stdout",
          "text": [
            "{1, 2, 3, 4, 6}\n"
          ]
        }
      ]
    }
  ]
}